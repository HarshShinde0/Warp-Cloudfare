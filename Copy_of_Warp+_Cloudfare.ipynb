{
  "nbformat": 4,
  "nbformat_minor": 0,
  "metadata": {
    "colab": {
      "provenance": [],
      "toc_visible": true,
      "authorship_tag": "ABX9TyNLScCcu2nx6f9+WTaYMJfC",
      "include_colab_link": true
    },
    "kernelspec": {
      "name": "python3",
      "display_name": "Python 3"
    },
    "language_info": {
      "name": "python"
    }
  },
  "cells": [
    {
      "cell_type": "markdown",
      "metadata": {
        "id": "view-in-github",
        "colab_type": "text"
      },
      "source": [
        "<a href=\"https://colab.research.google.com/github/HarshShinde0/Warp-Cloudfare/blob/main/Copy_of_Warp%2B_Cloudfare.ipynb\" target=\"_parent\"><img src=\"https://colab.research.google.com/assets/colab-badge.svg\" alt=\"Open In Colab\"/></a>"
      ]
    },
    {
      "cell_type": "markdown",
      "source": [
        "# ***WarpPlus CloudFare***\n",
        "\n",
        "---\n"
      ],
      "metadata": {
        "id": "45tYc3zCXScy"
      }
    },
    {
      "cell_type": "code",
      "execution_count": null,
      "metadata": {
        "id": "-jIjiNNTPAvQ",
        "cellView": "form"
      },
      "outputs": [],
      "source": [
        "#@markdown <br><center><img src='https://www.coywolf.news/wp-content/uploads/2019/09/og-warp.png' height=\"200\" alt=\"Wrap+\"/></center>\n",
        "#@markdown <center><h3><b><i>WARP (1.1.1.1)</i></b></h3></center><br>\n",
        "\n",
        "\n",
        "import urllib.request\n",
        "import json\n",
        "import datetime\n",
        "import random\n",
        "import string\n",
        "import time\n",
        "import os\n",
        "import sys\n",
        "os.system(\"title Warp+ Cloudfare\")\n",
        "os.system('cls' if os.name == 'nt' else 'clear')\n",
        "\n",
        "print (\"About Script\")\n",
        "print (\"You can getting unlimited GB on Warp+.\")\n",
        "print (\"Build: Dec2023(V1)\")\n",
        "print (\"----------\")\n",
        "referrer = input(\"[#] Enter the WARP+ ID:\")\n",
        "def genString(stringLength):\n",
        "\ttry:\n",
        "\t\tletters = string.ascii_letters + string.digits\n",
        "\t\treturn ''.join(random.choice(letters) for i in range(stringLength))\n",
        "\texcept Exception as error:\n",
        "\t\tprint(error)\n",
        "def digitString(stringLength):\n",
        "\ttry:\n",
        "\t\tdigit = string.digits\n",
        "\t\treturn ''.join((random.choice(digit) for i in range(stringLength)))\n",
        "\texcept Exception as error:\n",
        "\t\tprint(error)\n",
        "url = f'https://api.cloudflareclient.com/v0a{digitString(3)}/reg'\n",
        "def run():\n",
        "\ttry:\n",
        "\t\tinstall_id = genString(22)\n",
        "\t\tbody = {\"key\": \"{}=\".format(genString(43)),\n",
        "\t\t\t\t\"install_id\": install_id,\n",
        "\t\t\t\t\"fcm_token\": \"{}:APG8g{}\".format(install_id, genString(134)),\n",
        "\t\t\t\t\"referrer\": referrer,\n",
        "\t\t\t\t\"warp_enabled\": False,\n",
        "\t\t\t\t\"tos\": datetime.datetime.now().isoformat()[:-3] + \"+02:00\",\n",
        "\t\t\t\t\"type\": \"Android\",\n",
        "\t\t\t\t\"locale\": \"es_ES\"}\n",
        "\t\tdata = json.dumps(body).encode('utf8')\n",
        "\t\theaders = {'Content-Type': 'application/json; charset=UTF-8',\n",
        "\t\t\t\t\t'Host': 'api.cloudflareclient.com',\n",
        "\t\t\t\t\t'Connection': 'Keep-Alive',\n",
        "\t\t\t\t\t'Accept-Encoding': 'gzip',\n",
        "\t\t\t\t\t'User-Agent': 'okhttp/3.12.1'\n",
        "\t\t\t\t\t}\n",
        "\t\treq         = urllib.request.Request(url, data, headers)\n",
        "\t\tresponse    = urllib.request.urlopen(req)\n",
        "\t\tstatus_code = response.getcode()\n",
        "\t\treturn status_code\n",
        "\texcept Exception as error:\n",
        "\t\tprint(error)\n",
        "g = 0\n",
        "b = 0\n",
        "while True:\n",
        "\tresult = run()\n",
        "\tif result == 200:\n",
        "\t\tg = g + 1\n",
        "\t\tos.system('cls' if os.name == 'nt' else 'clear')\n",
        "\t\tprint(\"\")\n",
        "\t\tprint(\"                  Warp+ Cloudfare(script) By HKS \")\n",
        "\t\tsys.stdout.flush()\n",
        "\t\tprint(f\"\\n[-] WORK ON ID: {referrer}\")\n",
        "\t\tprint(f\"[:)] {g} GB has been successfully added to your account.\")\n",
        "\t\tprint(f\"[#] Total: {g} Good {b} Bad\")\n",
        "\t\tprint(\"[*] After 18 seconds, a new request will be sent.\")\n",
        "\t\ttime.sleep(18)"
      ]
    }
  ]
}